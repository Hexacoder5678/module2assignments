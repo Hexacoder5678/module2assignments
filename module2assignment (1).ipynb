{
  "nbformat": 4,
  "nbformat_minor": 0,
  "metadata": {
    "colab": {
      "provenance": []
    },
    "kernelspec": {
      "name": "python3",
      "display_name": "Python 3"
    },
    "language_info": {
      "name": "python"
    }
  },
  "cells": [
    {
      "cell_type": "code",
      "execution_count": null,
      "metadata": {
        "id": "y2pvhZAJJJ_C"
      },
      "outputs": [],
      "source": []
    },
    {
      "cell_type": "markdown",
      "source": [
        "Ques1->Write a simple program in HTML  that displays the heading \"HTML defines the content and structure of\n",
        "your website” on the web browser?\n",
        "    Ans="
      ],
      "metadata": {
        "id": "ArgtoWyRJPJW"
      }
    },
    {
      "cell_type": "markdown",
      "source": [
        "<!DOCTYPE html>\n",
        "<html>\n",
        "<head>\n",
        "<title>heading in html</title>\n",
        "</head>\n",
        "<body>\n",
        "  <h1>HTML defines the content and structure of your website</h1>\n",
        "  <h2>HTML defines the content and structure of your website</h2>\n",
        "  <h6>HTML defines the content and structure of your website</h6>\n",
        "</body>\n",
        "</html>"
      ],
      "metadata": {
        "id": "XKkii5ZgQNnX"
      }
    },
    {
      "cell_type": "markdown",
      "source": [
        "Ques2->C Explain the purpose of comments in HTML and provide an example of how to use comments in an HTML\n",
        "document?\n",
        "  Ans=comments are the non executing codes.used to aid debugging and documentation.\n",
        "  we ca use comments :\n",
        "        - <!--comment--> and <!--multiline comments->"
      ],
      "metadata": {
        "id": "TCFH1jXyLmPe"
      }
    },
    {
      "cell_type": "markdown",
      "source": [
        "Ques3->Write an HTML program that includes a heading, a paragraph of text, a horizontal line, and a line break.\n",
        "Arrange these elements to create a simple web page layout?\n",
        "   ANS="
      ],
      "metadata": {
        "id": "bNWiVQ9EMJif"
      }
    },
    {
      "cell_type": "markdown",
      "source": [
        "<!DOCTYPE html>\n",
        "<html>\n",
        "<head>\n",
        "<tittle>my web</title>\n",
        "</head>\n",
        "<body>\n",
        "<p>heelo my name is Archit Kumar Savita. This is my first website to be launched</p>\n",
        "<p> hello</p>\n",
        "<hr>\n",
        "<p>i learn how to use <br> tags and attributes</p>\n",
        "</body>\n",
        "</html>"
      ],
      "metadata": {
        "id": "B8P8LV1BQHou"
      }
    },
    {
      "cell_type": "markdown",
      "source": [
        "Ques4->Write a short note on Tag and element with an example?\n",
        "  ANS=tags define the structure and layout of the websites.paired or self closing provide the instruction to the browser.\n",
        "      elements consist of opentag tag,content and closing tag."
      ],
      "metadata": {
        "id": "KePULSXhNHpi"
      }
    },
    {
      "cell_type": "markdown",
      "source": [
        "Ques5->What is the DOCTYPE Declaration in HTML?\n",
        "    ANS=<!DOCTYPE html> declares html5 document type.\n",
        "        <html> contains the root element,<head> contains the meta information and <body> displays the content."
      ],
      "metadata": {
        "id": "jhIw8r17NqEQ"
      }
    }
  ]
}